{
 "cells": [
  {
   "cell_type": "code",
   "execution_count": 1,
   "id": "b242a76d-4d8e-4e6a-b618-bfeee1211f41",
   "metadata": {},
   "outputs": [],
   "source": [
    "import torchvision.datasets as datasets\n",
    "import torchvision.transforms as transforms\n",
    "import numpy as np"
   ]
  },
  {
   "cell_type": "code",
   "execution_count": 2,
   "id": "a250303e-4e02-4d0c-aa5a-fb548fd05b01",
   "metadata": {},
   "outputs": [],
   "source": [
    "# 加载未做任何转换的训练集（保留原始PIL图像）\n",
    "train_dataset = datasets.CIFAR10(\n",
    "    root='./data', train=True, download=True, transform=transforms.ToTensor()\n",
    ")"
   ]
  },
  {
   "cell_type": "code",
   "execution_count": 3,
   "id": "92a10cb5-c231-4c30-961c-a167789b1478",
   "metadata": {},
   "outputs": [],
   "source": [
    "# 初始化统计量\n",
    "mean = np.zeros(3)\n",
    "std = np.zeros(3)\n",
    "total = 0"
   ]
  },
  {
   "cell_type": "code",
   "execution_count": 7,
   "id": "b7ab6405-2c6d-4b0f-aa0c-c9e3cd82c741",
   "metadata": {},
   "outputs": [],
   "source": [
    "# 遍历所有图像，累加每个通道的像素值和平方值\n",
    "for img, _ in train_dataset:  # img shape: (3, 32, 32)\n",
    "    mean += img.numpy().sum(axis=(1, 2))  # 按通道累加所有像素值\n",
    "    std += (img.numpy() ** 2).sum(axis=(1, 2))  # 按通道累加所有像素值的平方\n",
    "    total += img.shape[1] * img.shape[2]  # 总像素数（32*32=1024）"
   ]
  },
  {
   "cell_type": "code",
   "execution_count": 9,
   "id": "b58e66b4-8d9a-47c0-9c82-eac154627be8",
   "metadata": {},
   "outputs": [],
   "source": [
    "# 计算均值和标准差\n",
    "mean /= total  # 每个通道的均值\n",
    "std = np.sqrt(std / total - mean ** 2)  # 每个通道的标准差（方差公式：E[x²] - (E[x])²）"
   ]
  },
  {
   "cell_type": "code",
   "execution_count": 10,
   "id": "33bf2e7b-11a2-4114-988d-8b8390b48989",
   "metadata": {},
   "outputs": [
    {
     "name": "stdout",
     "output_type": "stream",
     "text": [
      "均值： [0.49139969 0.48215842 0.44653093]\n",
      "标准差： [0.24703223 0.24348513 0.26158784]\n"
     ]
    }
   ],
   "source": [
    "print(\"均值：\", mean)  # 输出应接近 (0.4914, 0.4822, 0.4465)\n",
    "print(\"标准差：\", std)  # 输出应接近 (0.2023, 0.1994, 0.2010)"
   ]
  },
  {
   "cell_type": "code",
   "execution_count": null,
   "id": "cd8914e2-acb3-49e4-bacd-69815290b1ed",
   "metadata": {},
   "outputs": [],
   "source": []
  }
 ],
 "metadata": {
  "kernelspec": {
   "display_name": "Python 3 (ipykernel)",
   "language": "python",
   "name": "python3"
  },
  "language_info": {
   "codemirror_mode": {
    "name": "ipython",
    "version": 3
   },
   "file_extension": ".py",
   "mimetype": "text/x-python",
   "name": "python",
   "nbconvert_exporter": "python",
   "pygments_lexer": "ipython3",
   "version": "3.12.11"
  }
 },
 "nbformat": 4,
 "nbformat_minor": 5
}
