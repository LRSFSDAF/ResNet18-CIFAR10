{
 "cells": [
  {
   "cell_type": "code",
   "execution_count": 1,
   "id": "a63a779b-9bb7-4f41-b1ae-7e9c66876221",
   "metadata": {},
   "outputs": [],
   "source": [
    "import torch\n",
    "import torch.nn as nn\n",
    "import torch.optim as optim\n",
    "import torchvision\n",
    "import torchvision.transforms as transforms\n",
    "import matplotlib.pyplot as plt\n",
    "import numpy as np\n",
    "import platform\n",
    "from torch.utils.data import DataLoader, Subset, random_split\n",
    "from sklearn.metrics import confusion_matrix\n",
    "import seaborn as sns\n",
    "import pandas as pd\n",
    "import time\n",
    "import os"
   ]
  },
  {
   "cell_type": "code",
   "execution_count": 2,
   "id": "b6976a12-303f-4740-ae12-5db4bb7994ed",
   "metadata": {},
   "outputs": [
    {
     "name": "stdout",
     "output_type": "stream",
     "text": [
      "使用设备: cuda:0\n"
     ]
    }
   ],
   "source": [
    "# ==============================\n",
    "# 1. 环境配置和超参数设置\n",
    "# ==============================\n",
    "device = torch.device(\"cuda:0\" if torch.cuda.is_available() else \"cpu\")\n",
    "print(f\"使用设备: {device}\")"
   ]
  },
  {
   "cell_type": "code",
   "execution_count": 3,
   "id": "ab092379-9f32-4c02-89e4-5d8779684d0c",
   "metadata": {},
   "outputs": [],
   "source": [
    "# 实验超参数\n",
    "config = {\n",
    "    'batch_size': 128,          # 每次迭代训练的样本数量\n",
    "    'learning_rate': 0.001,     # 优化器的学习率，控制参数更新幅度\n",
    "    'num_epochs': 15,           # 训练总轮数（完整遍历训练集的次数）\n",
    "    'num_workers': 4,           # 数据加载时使用的进程数，加速数据预处理\n",
    "    'optimizer': 'Adam',        # 选择的优化器（这里指定为Adam）\n",
    "    'pretrained': True,         # 是否使用预训练模型的权重\n",
    "    'data_augmentation': True   # 是否对训练数据进行数据增强\n",
    "}"
   ]
  },
  {
   "cell_type": "code",
   "execution_count": 4,
   "id": "13aaac1a-e06a-4924-965f-e29edb02a68e",
   "metadata": {},
   "outputs": [],
   "source": [
    "# 创建结果保存目录\n",
    "os.makedirs('results',exist_ok=True)\n",
    "os.makedirs('checkpoints',exist_ok=True)"
   ]
  },
  {
   "cell_type": "code",
   "execution_count": 7,
   "id": "d101426c-dcac-46eb-b65a-934925ce2f9f",
   "metadata": {},
   "outputs": [],
   "source": [
    "# ==============================\n",
    "# 2. 数据预处理和加载\n",
    "# ==============================\n",
    "# 数据增强和归一化\n",
    "transform_train = transforms.Compose([\n",
    "    transforms.RandomCrop(32, padding=4),  # 随机裁剪：先填充4像素再裁回32x32，增加边缘信息多样性\n",
    "    transforms.RandomHorizontalFlip(),     # 50%概率水平翻转，增强视角鲁棒性\n",
    "    transforms.ToTensor(),                 # 转换为PyTorch张量（0-255→0-1）\n",
    "    transforms.Normalize(                  # 标准化：(像素值-均值)/标准差\n",
    "        (0.4914, 0.4822, 0.4465),          # CIFAR-10 RGB通道均值\n",
    "        (0.2023, 0.1994, 0.2010)           # CIFAR-10 RGB通道标准差\n",
    "    )\n",
    "]) if config['data_augmentation'] else transforms.Compose([\n",
    "    # 不启用数据增强时，仅做张量转换和标准化\n",
    "    transforms.ToTensor(),\n",
    "    transforms.Normalize((0.4914, 0.4822, 0.4465), (0.2023, 0.1994, 0.2010)),\n",
    "])\n",
    "\n",
    "# 测试集转换（无数据增强）\n",
    "transform_test = transforms.Compose([\n",
    "    transforms.ToTensor(),\n",
    "    transforms.Normalize((0.4914, 0.4822, 0.4465), (0.2023, 0.1994, 0.2010)),\n",
    "])"
   ]
  },
  {
   "cell_type": "code",
   "execution_count": 8,
   "id": "0a1dba63-fba0-451b-a45c-fbf61785b0b9",
   "metadata": {
    "scrolled": true
   },
   "outputs": [],
   "source": [
    "# 下载并加载CIFAR-10数据集\n",
    "train_dataset = torchvision.datasets.CIFAR10(\n",
    "    root='./data',       # 数据保存路径\n",
    "    train=True,          # 加载训练集（50000张图片）\n",
    "    download=True,       # 本地无数据则自动下载\n",
    "    transform=transform_train  # 应用训练集转换\n",
    ")\n",
    "test_dataset = torchvision.datasets.CIFAR10(\n",
    "    root='./data', \n",
    "    train=False,         # 加载测试集（10000张图片）\n",
    "    download=True, \n",
    "    transform=transform_test   # 应用测试集转换\n",
    ")"
   ]
  },
  {
   "cell_type": "code",
   "execution_count": 18,
   "id": "700542da-0b76-4919-a5f4-572337b00b9c",
   "metadata": {},
   "outputs": [],
   "source": [
    "# 划分训练集和验证集 (90% 训练, 10% 验证)\n",
    "train_subset, val_subset = random_split(train_dataset, [0.9,0.1])"
   ]
  },
  {
   "cell_type": "code",
   "execution_count": 21,
   "id": "0b26f733-d2d4-4073-b3b8-dfee76295156",
   "metadata": {},
   "outputs": [],
   "source": [
    "# 验证集使用测试集transform（无数据增强）\n",
    "val_subset.dataset.transform = transform_test"
   ]
  },
  {
   "cell_type": "code",
   "execution_count": 22,
   "id": "67647065-5b10-4a8e-bfdc-4440a8da0fbf",
   "metadata": {},
   "outputs": [],
   "source": [
    "# 数据加载器\n",
    "train_loader = DataLoader(\n",
    "    train_subset,\n",
    "    batch_size=config['batch_size'],  # 每批128张图片\n",
    "    shuffle=True,                     # 训练集打乱顺序，增强随机性\n",
    "    num_workers=config['num_workers'] # 4个进程并行加载数据\n",
    ")\n",
    "val_loader = DataLoader(\n",
    "    val_subset, \n",
    "    batch_size=config['batch_size'],\n",
    "    shuffle=False,                    # 验证集无需打乱\n",
    "    num_workers=config['num_workers']\n",
    ")\n",
    "test_loader = DataLoader(\n",
    "    test_dataset, \n",
    "    batch_size=config['batch_size'],\n",
    "    shuffle=False,                    # 测试集按顺序加载\n",
    "    num_workers=config['num_workers']\n",
    ")\n"
   ]
  },
  {
   "cell_type": "code",
   "execution_count": 23,
   "id": "6a87199b-1679-42e8-aefe-27205fd970dd",
   "metadata": {},
   "outputs": [],
   "source": [
    "# CIFAR-10类别名称\n",
    "classes = ('plane', 'car', 'bird', 'cat', 'deer', \n",
    "           'dog', 'frog', 'horse', 'ship', 'truck')"
   ]
  },
  {
   "cell_type": "code",
   "execution_count": 27,
   "id": "46ca0644-1682-4565-ac2c-716842a2d99a",
   "metadata": {},
   "outputs": [],
   "source": [
    "# ==============================\n",
    "# 3. 模型定义 - 修改ResNet-18\n",
    "# ==============================\n",
    "class CustomResNet18(nn.Module):\n",
    "    def __init__(self,num_classes=10):\n",
    "        super().__init__()\n",
    "\n",
    "        # 加载预训练ResNet-18\n",
    "        self.model = torchvision.models.resnet18(pretrained=config['pretrained'])\n",
    "        \n",
    "        # 修改第一层卷积：适配CIFAR-10的32x32输入\n",
    "        self.model.conv1 = nn.Conv2d(3, 64, kernel_size=3, stride=1, padding=1, bias=False)\n",
    "        self.model.bn1 = nn.BatchNorm2d(64)\n",
    "        \n",
    "        # 修改最后的全连接层\n",
    "        num_features = self.model.fc.in_features\n",
    "        self.model.fc = nn.Linear(num_features, num_classes)\n",
    "\n",
    "        def forward(self, x):\n",
    "            return self.model(x)"
   ]
  },
  {
   "cell_type": "code",
   "execution_count": 28,
   "id": "e4f4a2b9-7894-4577-9d71-cbd77fc2eec5",
   "metadata": {},
   "outputs": [
    {
     "name": "stderr",
     "output_type": "stream",
     "text": [
      "/home/damocles/anaconda3/envs/ResNet18-py3.12/lib/python3.12/site-packages/torchvision/models/_utils.py:208: UserWarning: The parameter 'pretrained' is deprecated since 0.13 and may be removed in the future, please use 'weights' instead.\n",
      "  warnings.warn(\n",
      "/home/damocles/anaconda3/envs/ResNet18-py3.12/lib/python3.12/site-packages/torchvision/models/_utils.py:223: UserWarning: Arguments other than a weight enum or `None` for 'weights' are deprecated since 0.13 and may be removed in the future. The current behavior is equivalent to passing `weights=ResNet18_Weights.IMAGENET1K_V1`. You can also use `weights=ResNet18_Weights.DEFAULT` to get the most up-to-date weights.\n",
      "  warnings.warn(msg)\n"
     ]
    },
    {
     "name": "stdout",
     "output_type": "stream",
     "text": [
      "模型结构:\n",
      "CustomResNet18(\n",
      "  (model): ResNet(\n",
      "    (conv1): Conv2d(3, 64, kernel_size=(3, 3), stride=(1, 1), padding=(1, 1), bias=False)\n",
      "    (bn1): BatchNorm2d(64, eps=1e-05, momentum=0.1, affine=True, track_running_stats=True)\n",
      "    (relu): ReLU(inplace=True)\n",
      "    (maxpool): MaxPool2d(kernel_size=3, stride=2, padding=1, dilation=1, ceil_mode=False)\n",
      "    (layer1): Sequential(\n",
      "      (0): BasicBlock(\n",
      "        (conv1): Conv2d(64, 64, kernel_size=(3, 3), stride=(1, 1), padding=(1, 1), bias=False)\n",
      "        (bn1): BatchNorm2d(64, eps=1e-05, momentum=0.1, affine=True, track_running_stats=True)\n",
      "        (relu): ReLU(inplace=True)\n",
      "        (conv2): Conv2d(64, 64, kernel_size=(3, 3), stride=(1, 1), padding=(1, 1), bias=False)\n",
      "        (bn2): BatchNorm2d(64, eps=1e-05, momentum=0.1, affine=True, track_running_stats=True)\n",
      "      )\n",
      "      (1): BasicBlock(\n",
      "        (conv1): Conv2d(64, 64, kernel_size=(3, 3), stride=(1, 1), padding=(1, 1), bias=False)\n",
      "        (bn1): BatchNorm2d(64, eps=1e-05, momentum=0.1, affine=True, track_running_stats=True)\n",
      "        (relu): ReLU(inplace=True)\n",
      "        (conv2): Conv2d(64, 64, kernel_size=(3, 3), stride=(1, 1), padding=(1, 1), bias=False)\n",
      "        (bn2): BatchNorm2d(64, eps=1e-05, momentum=0.1, affine=True, track_running_stats=True)\n",
      "      )\n",
      "    )\n",
      "    (layer2): Sequential(\n",
      "      (0): BasicBlock(\n",
      "        (conv1): Conv2d(64, 128, kernel_size=(3, 3), stride=(2, 2), padding=(1, 1), bias=False)\n",
      "        (bn1): BatchNorm2d(128, eps=1e-05, momentum=0.1, affine=True, track_running_stats=True)\n",
      "        (relu): ReLU(inplace=True)\n",
      "        (conv2): Conv2d(128, 128, kernel_size=(3, 3), stride=(1, 1), padding=(1, 1), bias=False)\n",
      "        (bn2): BatchNorm2d(128, eps=1e-05, momentum=0.1, affine=True, track_running_stats=True)\n",
      "        (downsample): Sequential(\n",
      "          (0): Conv2d(64, 128, kernel_size=(1, 1), stride=(2, 2), bias=False)\n",
      "          (1): BatchNorm2d(128, eps=1e-05, momentum=0.1, affine=True, track_running_stats=True)\n",
      "        )\n",
      "      )\n",
      "      (1): BasicBlock(\n",
      "        (conv1): Conv2d(128, 128, kernel_size=(3, 3), stride=(1, 1), padding=(1, 1), bias=False)\n",
      "        (bn1): BatchNorm2d(128, eps=1e-05, momentum=0.1, affine=True, track_running_stats=True)\n",
      "        (relu): ReLU(inplace=True)\n",
      "        (conv2): Conv2d(128, 128, kernel_size=(3, 3), stride=(1, 1), padding=(1, 1), bias=False)\n",
      "        (bn2): BatchNorm2d(128, eps=1e-05, momentum=0.1, affine=True, track_running_stats=True)\n",
      "      )\n",
      "    )\n",
      "    (layer3): Sequential(\n",
      "      (0): BasicBlock(\n",
      "        (conv1): Conv2d(128, 256, kernel_size=(3, 3), stride=(2, 2), padding=(1, 1), bias=False)\n",
      "        (bn1): BatchNorm2d(256, eps=1e-05, momentum=0.1, affine=True, track_running_stats=True)\n",
      "        (relu): ReLU(inplace=True)\n",
      "        (conv2): Conv2d(256, 256, kernel_size=(3, 3), stride=(1, 1), padding=(1, 1), bias=False)\n",
      "        (bn2): BatchNorm2d(256, eps=1e-05, momentum=0.1, affine=True, track_running_stats=True)\n",
      "        (downsample): Sequential(\n",
      "          (0): Conv2d(128, 256, kernel_size=(1, 1), stride=(2, 2), bias=False)\n",
      "          (1): BatchNorm2d(256, eps=1e-05, momentum=0.1, affine=True, track_running_stats=True)\n",
      "        )\n",
      "      )\n",
      "      (1): BasicBlock(\n",
      "        (conv1): Conv2d(256, 256, kernel_size=(3, 3), stride=(1, 1), padding=(1, 1), bias=False)\n",
      "        (bn1): BatchNorm2d(256, eps=1e-05, momentum=0.1, affine=True, track_running_stats=True)\n",
      "        (relu): ReLU(inplace=True)\n",
      "        (conv2): Conv2d(256, 256, kernel_size=(3, 3), stride=(1, 1), padding=(1, 1), bias=False)\n",
      "        (bn2): BatchNorm2d(256, eps=1e-05, momentum=0.1, affine=True, track_running_stats=True)\n",
      "      )\n",
      "    )\n",
      "    (layer4): Sequential(\n",
      "      (0): BasicBlock(\n",
      "        (conv1): Conv2d(256, 512, kernel_size=(3, 3), stride=(2, 2), padding=(1, 1), bias=False)\n",
      "        (bn1): BatchNorm2d(512, eps=1e-05, momentum=0.1, affine=True, track_running_stats=True)\n",
      "        (relu): ReLU(inplace=True)\n",
      "        (conv2): Conv2d(512, 512, kernel_size=(3, 3), stride=(1, 1), padding=(1, 1), bias=False)\n",
      "        (bn2): BatchNorm2d(512, eps=1e-05, momentum=0.1, affine=True, track_running_stats=True)\n",
      "        (downsample): Sequential(\n",
      "          (0): Conv2d(256, 512, kernel_size=(1, 1), stride=(2, 2), bias=False)\n",
      "          (1): BatchNorm2d(512, eps=1e-05, momentum=0.1, affine=True, track_running_stats=True)\n",
      "        )\n",
      "      )\n",
      "      (1): BasicBlock(\n",
      "        (conv1): Conv2d(512, 512, kernel_size=(3, 3), stride=(1, 1), padding=(1, 1), bias=False)\n",
      "        (bn1): BatchNorm2d(512, eps=1e-05, momentum=0.1, affine=True, track_running_stats=True)\n",
      "        (relu): ReLU(inplace=True)\n",
      "        (conv2): Conv2d(512, 512, kernel_size=(3, 3), stride=(1, 1), padding=(1, 1), bias=False)\n",
      "        (bn2): BatchNorm2d(512, eps=1e-05, momentum=0.1, affine=True, track_running_stats=True)\n",
      "      )\n",
      "    )\n",
      "    (avgpool): AdaptiveAvgPool2d(output_size=(1, 1))\n",
      "    (fc): Linear(in_features=512, out_features=10, bias=True)\n",
      "  )\n",
      ")\n"
     ]
    }
   ],
   "source": [
    "# 创建模型并移至设备\n",
    "model = CustomResNet18(num_classes=10).to(device)\n",
    "\n",
    "# 打印模型结构\n",
    "print(\"模型结构:\")\n",
    "print(model)"
   ]
  },
  {
   "cell_type": "code",
   "execution_count": null,
   "id": "7973ce31-25fd-45a1-b50b-86777e36165e",
   "metadata": {},
   "outputs": [],
   "source": []
  }
 ],
 "metadata": {
  "kernelspec": {
   "display_name": "Python 3 (ipykernel)",
   "language": "python",
   "name": "python3"
  },
  "language_info": {
   "codemirror_mode": {
    "name": "ipython",
    "version": 3
   },
   "file_extension": ".py",
   "mimetype": "text/x-python",
   "name": "python",
   "nbconvert_exporter": "python",
   "pygments_lexer": "ipython3",
   "version": "3.12.11"
  }
 },
 "nbformat": 4,
 "nbformat_minor": 5
}
